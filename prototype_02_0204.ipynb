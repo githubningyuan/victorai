{
 "cells": [
  {
   "cell_type": "markdown",
   "metadata": {},
   "source": [
    "## An simple model to predict:\n",
    "### 1. ability of each student\n",
    "### 2. attributes of each problem\n",
    "### 3. whether she/he will make a correct choice."
   ]
  },
  {
   "cell_type": "code",
   "execution_count": 1,
   "metadata": {
    "collapsed": true
   },
   "outputs": [],
   "source": [
    "### import libraries\n",
    "import numpy as np\n",
    "import tensorflow as tf\n",
    "import time\n",
    "import xlrd, csv\n",
    "import pandas as pd"
   ]
  },
  {
   "cell_type": "code",
   "execution_count": 2,
   "metadata": {
    "collapsed": false
   },
   "outputs": [],
   "source": [
    "### open the chemistry exam record \n",
    "workbook = xlrd.open_workbook('chem_20180201.xlsx')\n",
    "names = workbook.sheet_names()\n",
    "\n",
    "xlsx = pd.ExcelFile('chem_20180201.xlsx')\n",
    "df1 = xlsx.parse(names[0], header=None)\n",
    "df2 = xlsx.parse(names[1], header=None)\n",
    "df3 = xlsx.parse(names[2], header=None)"
   ]
  },
  {
   "cell_type": "code",
   "execution_count": 39,
   "metadata": {
    "collapsed": false
   },
   "outputs": [],
   "source": [
    "### process the data \n",
    "df2_ = df2.dropna(axis = 1)\n",
    "df2_.columns = range(11)\n",
    "\n",
    "ans0 = (df2_.loc[0][1:11]==df2_.loc[3][1:11])\n",
    "ans1 = (df2_.loc[1][1:11]==df2_.loc[3][1:11])\n",
    "ans2 = (df2_.loc[2][1:11]==df2_.loc[3][1:11])\n",
    "df2_.loc[0][1:11] = ans0\n",
    "df2_.loc[1][1:11] = ans1\n",
    "df2_.loc[2][1:11] = ans2\n",
    "\n",
    "scores = (np.array(df2_.loc[:2,1:11])).astype(np.float)"
   ]
  },
  {
   "cell_type": "code",
   "execution_count": 38,
   "metadata": {
    "collapsed": false
   },
   "outputs": [
    {
     "name": "stdout",
     "output_type": "stream",
     "text": [
      "[[ 1.  1.  1.  1.  1.  0.  1.  1.  1.  0.]\n",
      " [ 1.  1.  0.  1.  1.  1.  1.  1.  1.  1.]\n",
      " [ 0.  1.  1.  1.  1.  1.  1.  1.  1.  1.]]\n"
     ]
    }
   ],
   "source": [
    "### \"scores\" indicates how each student scores on each problem\n",
    "###  (3 students, 10 problems)\n",
    "print(scores)"
   ]
  },
  {
   "cell_type": "code",
   "execution_count": 4,
   "metadata": {
    "collapsed": true
   },
   "outputs": [],
   "source": [
    "'''\n",
    "these parameters means: \n",
    "number of students\n",
    "number of problems\n",
    "number of latent factors\n",
    "ratio of missing values and complete data\n",
    "number of missing values\n",
    "hyper parameters 1, to restrict the sum of elements in each problem to be one\n",
    "hyper parameters 2, to restrict elements in each problem to be less than one  \n",
    "'''\n",
    "n_student = 3\n",
    "n_prob = 10\n",
    "n_latent = 1\n",
    "ratio = 0.1\n",
    "n_zeros = int(n_student*n_prob* ratio)\n",
    "lamb1 = 0.01\n",
    "lamb2 = 5.  "
   ]
  },
  {
   "cell_type": "code",
   "execution_count": 5,
   "metadata": {
    "collapsed": false
   },
   "outputs": [],
   "source": [
    "# proj_mat defines positions to drop a ratio of data randomly\n",
    "# (optional)\n",
    "proj_mat = np.ones(n_student*n_prob)\n",
    "proj_mat[:n_zeros] = 0\n",
    "np.random.shuffle( proj_mat )\n",
    "proj_mat = proj_mat.reshape([n_student, n_prob])\n",
    "test_mat = np.ones([n_student, n_prob]) - proj_mat"
   ]
  },
  {
   "cell_type": "code",
   "execution_count": 6,
   "metadata": {
    "collapsed": false
   },
   "outputs": [
    {
     "data": {
      "text/plain": [
       "array([[ 1.,  1.,  1.,  1.,  1.,  1.,  1.,  1.,  1.,  1.],\n",
       "       [ 1.,  1.,  0.,  1.,  1.,  1.,  1.,  1.,  1.,  1.],\n",
       "       [ 1.,  0.,  1.,  1.,  1.,  1.,  1.,  1.,  1.,  0.]])"
      ]
     },
     "execution_count": 6,
     "metadata": {},
     "output_type": "execute_result"
    }
   ],
   "source": [
    "proj_mat "
   ]
  },
  {
   "cell_type": "code",
   "execution_count": 7,
   "metadata": {
    "collapsed": false
   },
   "outputs": [
    {
     "data": {
      "text/plain": [
       "array([[ 0.,  0.,  0.,  0.,  0.,  0.,  0.,  0.,  0.,  0.],\n",
       "       [ 0.,  0.,  1.,  0.,  0.,  0.,  0.,  0.,  0.,  0.],\n",
       "       [ 0.,  1.,  0.,  0.,  0.,  0.,  0.,  0.,  0.,  1.]])"
      ]
     },
     "execution_count": 7,
     "metadata": {},
     "output_type": "execute_result"
    }
   ],
   "source": [
    "test_mat"
   ]
  },
  {
   "cell_type": "markdown",
   "metadata": {},
   "source": [
    "### Use tensorflow(TF) to construct model:"
   ]
  },
  {
   "cell_type": "code",
   "execution_count": 8,
   "metadata": {
    "collapsed": true
   },
   "outputs": [],
   "source": [
    "sess = tf.Session()"
   ]
  },
  {
   "cell_type": "code",
   "execution_count": 9,
   "metadata": {
    "collapsed": false
   },
   "outputs": [],
   "source": [
    "class recomend:\n",
    "    def __init__(self, n_student, n_prob, n_latent, ratio, lamb1, lamb2):\n",
    "        self.ones = tf.constant(np.ones([n_student,n_prob]), dtype=tf.float32)\n",
    "        self.n_student = n_student\n",
    "        self.n_prob = n_prob\n",
    "        #self.lamb = lamb\n",
    "        self.scores = tf.placeholder(dtype = tf.float32 ,shape = [n_student, n_prob])\n",
    "        self.proj_ = tf.placeholder(dtype = tf.float32 ,shape = [n_student, n_prob])\n",
    "        self.s_ = tf.get_variable(\"student\", shape=[n_student, n_latent])\n",
    "        self.s_bias = tf.get_variable(\"student_bias\", shape=[n_student, 1])\n",
    "        self.p_ = tf.get_variable(\"problem\", shape=[n_prob, n_latent])\n",
    "        self.p_bias = tf.get_variable(\"problem_bias\", shape=[n_prob, 1])\n",
    "        \n",
    "        self.predict =  tf.sigmoid(\n",
    "            tf.matmul(self.s_, tf.transpose(self.p_) ) + \n",
    "            tf.tile(self.s_bias, [1, n_prob]) +\n",
    "            tf.transpose(tf.tile(self.p_bias, [1, n_student]))\n",
    "                                  )\n",
    "        \n",
    "        self.loss_0 = tf.reduce_sum(tf.mul(-( \n",
    "                                 self.scores*tf.log(self.predict +1e-6) \n",
    "                   + (self.ones-self.scores)*tf.log(self.ones - self.predict  )   \n",
    "                                        ),self.proj_  ))/(n_student*n_prob* (1-ratio) )\n",
    "        self.loss_1 = lamb1 * (tf.reduce_sum(tf.square(self.p_) ) \n",
    "                              + tf.reduce_sum(tf.square(self.s_) )  )\n",
    "#        loss_0 = tf.reduce_sum(tf.square(self.predict-self.scores) )/(n_student*n_prob* (1-ratio) )\n",
    "#        loss_1 = lamb1 * tf.reduce_sum(tf.square(tf.reduce_sum(self.p_, reduction_indices = 1) - self.ones) )\n",
    "#        loss_2 = lamb2 * tf.reduce_sum(tf.pow(self.p_, 8) )/(n_student*n_prob* (1-ratio) )\n",
    "#        self.loss = loss_0 + loss_1 + loss_2\n",
    "        self.loss = self.loss_0 + self.loss_1"
   ]
  },
  {
   "cell_type": "code",
   "execution_count": 10,
   "metadata": {
    "collapsed": false
   },
   "outputs": [],
   "source": [
    "model = recomend(n_student, n_prob, n_latent, ratio, lamb1, lamb2)"
   ]
  },
  {
   "cell_type": "code",
   "execution_count": 11,
   "metadata": {
    "collapsed": false
   },
   "outputs": [],
   "source": [
    "sess.run(tf.initialize_all_variables() )"
   ]
  },
  {
   "cell_type": "code",
   "execution_count": 12,
   "metadata": {
    "collapsed": false
   },
   "outputs": [],
   "source": [
    "train_op = tf.train.GradientDescentOptimizer(1e-3).minimize(model.loss)\n",
    "#train_op = tf.train.AdamOptimizer(1e-4).minimize(model.loss)"
   ]
  },
  {
   "cell_type": "code",
   "execution_count": 13,
   "metadata": {
    "collapsed": false
   },
   "outputs": [
    {
     "name": "stdout",
     "output_type": "stream",
     "text": [
      "(10000, 0.36491638, 0.012693423, 1517716458.396111)\n",
      "(20000, 0.28395164, 0.01071397, 13.513853073120117)\n",
      "(30000, 0.24804002, 0.010314198, 13.521505117416382)\n",
      "(40000, 0.22590114, 0.01046444, 13.552303075790405)\n"
     ]
    }
   ],
   "source": [
    "## start training:\n",
    "delta = 10\n",
    "loss_old = 1e3\n",
    "steps = 0\n",
    "t0 = 0\n",
    "while loss_old > 23e-2:\n",
    "    sess.run(train_op, feed_dict = {model.scores:scores, model.proj_: proj_mat })\n",
    "\n",
    "    loss_0 = sess.run(model.loss_0, feed_dict = {model.scores:scores,\n",
    "                                    model.proj_: proj_mat })\n",
    "    loss_1 = sess.run(model.loss_1, feed_dict = {model.scores:scores,\n",
    "                                    model.proj_: proj_mat })\n",
    "#    loss_new = sess.run(model.loss, feed_dict = {model.scores:scores,\n",
    "#                                    model.proj_: proj_mat })\n",
    "    loss_new = loss_0 + loss_1\n",
    "#    delta = loss_old - loss_new\n",
    "    loss_old = loss_new\n",
    "    steps +=1\n",
    "    if steps%10000 ==0:\n",
    "        t1 = time.time() - t0\n",
    "        print(steps, loss_0, loss_1, t1)\n",
    "        t0 = time.time()"
   ]
  },
  {
   "cell_type": "code",
   "execution_count": 14,
   "metadata": {
    "collapsed": false
   },
   "outputs": [
    {
     "name": "stdout",
     "output_type": "stream",
     "text": [
      "(0.22999857, 10)\n"
     ]
    }
   ],
   "source": [
    "## final loss  and   delta\n",
    "print(loss_new, delta)"
   ]
  },
  {
   "cell_type": "markdown",
   "metadata": {},
   "source": [
    "### Let's see the results:"
   ]
  },
  {
   "cell_type": "code",
   "execution_count": 50,
   "metadata": {
    "collapsed": false
   },
   "outputs": [
    {
     "name": "stdout",
     "output_type": "stream",
     "text": [
      "[[-0.15659647]\n",
      " [ 0.2852715 ]\n",
      " [-0.60890943]]\n"
     ]
    }
   ],
   "source": [
    "print(sess.run(model.s_))"
   ]
  },
  {
   "cell_type": "code",
   "execution_count": 48,
   "metadata": {
    "collapsed": false
   },
   "outputs": [
    {
     "name": "stdout",
     "output_type": "stream",
     "text": [
      "[[ 0.58920366]\n",
      " [-0.14931335]\n",
      " [-0.08959205]\n",
      " [-0.12398325]\n",
      " [ 0.11247037]\n",
      " [ 0.08131763]\n",
      " [-0.11876544]\n",
      " [-0.14667065]\n",
      " [-0.17851865]\n",
      " [ 0.31801909]]\n"
     ]
    }
   ],
   "source": [
    "print(sess.run(model.p_))"
   ]
  },
  {
   "cell_type": "code",
   "execution_count": 51,
   "metadata": {
    "collapsed": false
   },
   "outputs": [
    {
     "name": "stdout",
     "output_type": "stream",
     "text": [
      "[[ 0.95527393]\n",
      " [ 2.28514433]\n",
      " [ 1.18731129]]\n"
     ]
    }
   ],
   "source": [
    "print(sess.run(model.s_bias) )"
   ]
  },
  {
   "cell_type": "code",
   "execution_count": 52,
   "metadata": {
    "collapsed": false
   },
   "outputs": [
    {
     "name": "stdout",
     "output_type": "stream",
     "text": [
      "[[-0.09135499]\n",
      " [ 0.96259308]\n",
      " [ 0.52969378]\n",
      " [ 1.10508418]\n",
      " [ 1.09382975]\n",
      " [-0.24853112]\n",
      " [ 0.83611989]\n",
      " [ 0.99966627]\n",
      " [ 1.11295152]\n",
      " [-0.85973352]]\n"
     ]
    }
   ],
   "source": [
    "print(sess.run(model.p_bias))"
   ]
  },
  {
   "cell_type": "markdown",
   "metadata": {},
   "source": [
    "### counting wrong predicts"
   ]
  },
  {
   "cell_type": "code",
   "execution_count": 67,
   "metadata": {
    "collapsed": false
   },
   "outputs": [
    {
     "name": "stdout",
     "output_type": "stream",
     "text": [
      "1 wrong predictions within 3 test samples\n"
     ]
    }
   ],
   "source": [
    "predict = sess.run(model.predict)\n",
    "n_wrong = int(np.sum(np.square(np.sign(predict-0.5) - scores)*test_mat))\n",
    "print(str(n_wrong)+' wrong predictions within '+ str(n_zeros) +' test samples' )"
   ]
  },
  {
   "cell_type": "markdown",
   "metadata": {},
   "source": [
    "### All predict results "
   ]
  },
  {
   "cell_type": "code",
   "execution_count": 55,
   "metadata": {
    "collapsed": false
   },
   "outputs": [
    {
     "name": "stdout",
     "output_type": "stream",
     "text": [
      "[[ 0.68387806  0.87448925  0.81742489  0.88892168  0.88406408  0.66685808\n",
      "   0.85936093  0.87845802  0.89053136  0.51143295]\n",
      " [ 0.91387326  0.96102738  0.94209385  0.96626365  0.96804839  0.88693517\n",
      "   0.95636934  0.96241969  0.96601206  0.81996822]\n",
      " [ 0.67637992  0.90385598  0.85465145  0.91434568  0.90138036  0.70873845\n",
      "   0.89048922  0.90689397  0.9175083   0.53343326]]\n"
     ]
    }
   ],
   "source": [
    "print(predict)"
   ]
  },
  {
   "cell_type": "code",
   "execution_count": 56,
   "metadata": {
    "collapsed": false
   },
   "outputs": [
    {
     "name": "stdout",
     "output_type": "stream",
     "text": [
      "[[ 1.  1.  1.  1.  1.  0.  1.  1.  1.  0.]\n",
      " [ 1.  1.  0.  1.  1.  1.  1.  1.  1.  1.]\n",
      " [ 0.  1.  1.  1.  1.  1.  1.  1.  1.  1.]]\n"
     ]
    }
   ],
   "source": [
    "print(scores)"
   ]
  },
  {
   "cell_type": "code",
   "execution_count": null,
   "metadata": {
    "collapsed": true
   },
   "outputs": [],
   "source": []
  },
  {
   "cell_type": "code",
   "execution_count": null,
   "metadata": {
    "collapsed": true
   },
   "outputs": [],
   "source": []
  },
  {
   "cell_type": "code",
   "execution_count": null,
   "metadata": {
    "collapsed": true
   },
   "outputs": [],
   "source": []
  },
  {
   "cell_type": "code",
   "execution_count": null,
   "metadata": {
    "collapsed": true
   },
   "outputs": [],
   "source": []
  },
  {
   "cell_type": "code",
   "execution_count": null,
   "metadata": {
    "collapsed": true
   },
   "outputs": [],
   "source": []
  },
  {
   "cell_type": "code",
   "execution_count": 17,
   "metadata": {
    "collapsed": false
   },
   "outputs": [],
   "source": [
    "ans_p = sess.run(model.p_, feed_dict = {model.scores:scores, model.proj_: proj_mat })\n",
    "ans_s = sess.run(model.s_, feed_dict = {model.scores:scores, model.proj_: proj_mat })"
   ]
  },
  {
   "cell_type": "code",
   "execution_count": 18,
   "metadata": {
    "collapsed": false
   },
   "outputs": [
    {
     "name": "stdout",
     "output_type": "stream",
     "text": [
      "1.16439\n",
      "19.0288\n",
      "0.536235179729\n",
      "99\n"
     ]
    }
   ],
   "source": [
    "print(np.max(ans_p))\n",
    "print(np.max(ans_s))\n",
    "print(np.max(p_mat))\n",
    "print(np.max(s_mat))"
   ]
  },
  {
   "cell_type": "markdown",
   "metadata": {},
   "source": [
    "### The matrix \"scores\" corresponds to the actual scores students get,  each row corresponds to one student"
   ]
  },
  {
   "cell_type": "code",
   "execution_count": 19,
   "metadata": {
    "collapsed": false
   },
   "outputs": [
    {
     "data": {
      "text/plain": [
       "array([[ 52.67019706,  77.35301135,  59.15939095, ...,  59.93032837,\n",
       "          0.        ,   0.        ],\n",
       "       [ 47.74065807,  37.63227162,  35.40073239, ...,  54.0015399 ,\n",
       "         55.28178138,  42.90616783],\n",
       "       [ 46.38629337,  41.00573029,   0.        , ...,  40.05709955,\n",
       "         45.1835761 ,  32.13017566],\n",
       "       ..., \n",
       "       [ 32.62758583,  37.35290522,   0.        , ...,  41.88571342,\n",
       "         34.00440983,  45.5966174 ],\n",
       "       [ 44.59803368,  47.51215155,  42.46353872, ...,  35.88972598,\n",
       "          0.        ,  19.03881936],\n",
       "       [ 64.49604241,  41.26206108,  55.01551282, ...,  49.74749856,\n",
       "         66.05305759,  57.30576901]])"
      ]
     },
     "execution_count": 19,
     "metadata": {},
     "output_type": "execute_result"
    }
   ],
   "source": [
    "scores"
   ]
  },
  {
   "cell_type": "markdown",
   "metadata": {},
   "source": [
    "### The matrix \"predict\" corresponds to the scores predicted by the model"
   ]
  },
  {
   "cell_type": "code",
   "execution_count": 20,
   "metadata": {
    "collapsed": false
   },
   "outputs": [
    {
     "data": {
      "text/plain": [
       "array([[ 50.31025696,  51.0971756 ,  50.85494995, ...,  49.55835342,\n",
       "          0.        ,   0.        ],\n",
       "       [ 42.00656891,  42.65892029,  42.45944595, ...,  41.37759399,\n",
       "         41.76087952,  41.22695923],\n",
       "       [ 51.43185425,  52.22583389,   0.        , ...,  50.65138626,\n",
       "         51.12961197,  50.46997452],\n",
       "       ..., \n",
       "       [ 31.10415268,  31.58787346,   0.        , ...,  30.63759232,\n",
       "         30.92169189,  30.52473068],\n",
       "       [ 41.2207756 ,  41.86265564,  41.66644669, ...,  40.59862518,\n",
       "          0.        ,  40.44944   ],\n",
       "       [ 60.9866066 ,  61.92451477,  61.64091492, ...,  60.0588913 ,\n",
       "         60.62866211,  59.8453331 ]], dtype=float32)"
      ]
     },
     "execution_count": 20,
     "metadata": {},
     "output_type": "execute_result"
    }
   ],
   "source": [
    "predict = sess.run(model.predict, feed_dict = {model.scores:scores, model.proj_: proj_mat })\n",
    "predict "
   ]
  },
  {
   "cell_type": "code",
   "execution_count": 21,
   "metadata": {
    "collapsed": false
   },
   "outputs": [
    {
     "data": {
      "text/plain": [
       "array([ 0.2280732 ,  0.17640353,  0.06800562,  0.20650069,  0.32101697])"
      ]
     },
     "execution_count": 21,
     "metadata": {},
     "output_type": "execute_result"
    }
   ],
   "source": [
    "p_mat[0]"
   ]
  },
  {
   "cell_type": "code",
   "execution_count": 22,
   "metadata": {
    "collapsed": false
   },
   "outputs": [
    {
     "data": {
      "text/plain": [
       "array([ 1.02335465,  1.11626089, -1.13355446,  1.12117815, -1.12711513], dtype=float32)"
      ]
     },
     "execution_count": 22,
     "metadata": {},
     "output_type": "execute_result"
    }
   ],
   "source": [
    "ans_p[0]"
   ]
  },
  {
   "cell_type": "code",
   "execution_count": null,
   "metadata": {
    "collapsed": true
   },
   "outputs": [],
   "source": []
  },
  {
   "cell_type": "code",
   "execution_count": null,
   "metadata": {
    "collapsed": true
   },
   "outputs": [],
   "source": []
  },
  {
   "cell_type": "code",
   "execution_count": null,
   "metadata": {
    "collapsed": true
   },
   "outputs": [],
   "source": []
  },
  {
   "cell_type": "code",
   "execution_count": null,
   "metadata": {
    "collapsed": true
   },
   "outputs": [],
   "source": []
  }
 ],
 "metadata": {
  "anaconda-cloud": {},
  "kernelspec": {
   "display_name": "Python 2",
   "language": "python",
   "name": "python2"
  },
  "language_info": {
   "codemirror_mode": {
    "name": "ipython",
    "version": 2
   },
   "file_extension": ".py",
   "mimetype": "text/x-python",
   "name": "python",
   "nbconvert_exporter": "python",
   "pygments_lexer": "ipython2",
   "version": "2.7.12"
  }
 },
 "nbformat": 4,
 "nbformat_minor": 1
}
