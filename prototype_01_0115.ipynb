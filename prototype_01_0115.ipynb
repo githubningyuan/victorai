{
 "cells": [
  {
   "cell_type": "markdown",
   "metadata": {},
   "source": [
    "## An over-simplified model to predict:\n",
    "### 1. ability of each student\n",
    "### 2. attributes of each problem"
   ]
  },
  {
   "cell_type": "code",
   "execution_count": 1,
   "metadata": {
    "collapsed": true
   },
   "outputs": [],
   "source": [
    "import numpy as np\n",
    "import tensorflow as tf\n",
    "import time"
   ]
  },
  {
   "cell_type": "code",
   "execution_count": 2,
   "metadata": {
    "collapsed": true
   },
   "outputs": [],
   "source": [
    "'''\n",
    "these parameters means: \n",
    "number of students\n",
    "number of problems\n",
    "number of latent factors\n",
    "ratio of missing values and complete data\n",
    "number of missing values\n",
    "hyper parameters 1, to restrict the sum of elements in each problem to be one\n",
    "hyper parameters 2, to restrict elements in each problem to be less than one  \n",
    "'''\n",
    "n_student = 100\n",
    "n_prob = 80\n",
    "n_latent = 5\n",
    "ratio = 0.1\n",
    "n_zeros = int(n_student*n_prob* ratio)\n",
    "lamb1 = 1.\n",
    "lamb2 = 1."
   ]
  },
  {
   "cell_type": "markdown",
   "metadata": {},
   "source": [
    "### Before collecting real data, I produce ARTIFICIAL data:"
   ]
  },
  {
   "cell_type": "code",
   "execution_count": 3,
   "metadata": {
    "collapsed": false
   },
   "outputs": [
    {
     "data": {
      "text/plain": [
       "(80, 5)"
      ]
     },
     "execution_count": 3,
     "metadata": {},
     "output_type": "execute_result"
    }
   ],
   "source": [
    "# In this matrix, each row correspond to one problem\n",
    "p_mat = np.random.uniform(0,1,(n_prob,n_latent))\n",
    "p_mat.shape"
   ]
  },
  {
   "cell_type": "code",
   "execution_count": 4,
   "metadata": {
    "collapsed": false
   },
   "outputs": [
    {
     "data": {
      "text/plain": [
       "(100, 5)"
      ]
     },
     "execution_count": 4,
     "metadata": {},
     "output_type": "execute_result"
    }
   ],
   "source": [
    "# In this matrix, each row correspond to one student\n",
    "s_mat = np.random.randint(10, size=(n_student,n_latent))\n",
    "s_mat.shape"
   ]
  },
  {
   "cell_type": "code",
   "execution_count": 5,
   "metadata": {
    "collapsed": false
   },
   "outputs": [],
   "source": [
    "# proj_mat defines positions to drop a ratio of data randomly\n",
    "# (optional)\n",
    "proj_mat = np.ones(n_student*n_prob)\n",
    "proj_mat[:n_zeros] = 0\n",
    "np.random.shuffle( proj_mat )\n",
    "proj_mat = proj_mat.reshape([n_student, n_prob])"
   ]
  },
  {
   "cell_type": "code",
   "execution_count": 6,
   "metadata": {
    "collapsed": false
   },
   "outputs": [
    {
     "data": {
      "text/plain": [
       "(100, 80)"
      ]
     },
     "execution_count": 6,
     "metadata": {},
     "output_type": "execute_result"
    }
   ],
   "source": [
    "# scores collected in this imaginary exam:\n",
    "scores = np.multiply( np.dot(s_mat, np.transpose(p_mat) ), proj_mat)  \n",
    "scores.shape"
   ]
  },
  {
   "cell_type": "markdown",
   "metadata": {},
   "source": [
    "### Use tensorflow(TF) to construct model:\n",
    "### 1. If we actually need neural network model, we use TF.\n",
    "### 2. If not, I will rewrite this without tensorflow when I have time."
   ]
  },
  {
   "cell_type": "code",
   "execution_count": 7,
   "metadata": {
    "collapsed": true
   },
   "outputs": [],
   "source": [
    "sess = tf.Session()"
   ]
  },
  {
   "cell_type": "code",
   "execution_count": 8,
   "metadata": {
    "collapsed": false
   },
   "outputs": [],
   "source": [
    "class recomend:\n",
    "    def __init__(self, n_student, n_prob, n_latent, ratio, lamb1, lamb2):\n",
    "        self.ones = tf.constant(np.ones([n_prob,1]), dtype=tf.float32)\n",
    "        self.n_student = n_student\n",
    "        self.n_prob = n_prob\n",
    "        #self.lamb = lamb\n",
    "        self.scores = tf.placeholder(dtype = tf.float32 ,shape = [n_student, n_prob])\n",
    "        self.proj_ = tf.placeholder(dtype = tf.float32 ,shape = [n_student, n_prob])\n",
    "        self.s_ = tf.get_variable(\"student\", shape=[n_student, n_latent])\n",
    "        self.p_ = tf.get_variable(\"problem\", shape=[n_prob, n_latent])\n",
    "        self.predict = tf.mul( tf.matmul(self.s_, tf.transpose(self.p_) ), self.proj_) \n",
    "        \n",
    "        loss_0 = tf.reduce_sum(tf.square(self.predict-self.scores) )/(n_student*n_prob* (1-ratio) )\n",
    "        loss_1 = lamb1 * tf.reduce_sum(tf.square(tf.reduce_sum(self.p_, reduction_indices = 1) - self.ones) )\n",
    "        loss_2 = lamb2 * tf.reduce_sum(tf.pow(self.p_, 8) )/(n_student*n_prob* (1-ratio) )\n",
    "        self.loss = loss_0 + loss_1 + loss_2"
   ]
  },
  {
   "cell_type": "code",
   "execution_count": 9,
   "metadata": {
    "collapsed": false
   },
   "outputs": [],
   "source": [
    "model = recomend(n_student, n_prob, n_latent, ratio, lamb1, lamb2)"
   ]
  },
  {
   "cell_type": "code",
   "execution_count": 10,
   "metadata": {
    "collapsed": false
   },
   "outputs": [],
   "source": [
    "sess.run(tf.initialize_all_variables() )"
   ]
  },
  {
   "cell_type": "code",
   "execution_count": 11,
   "metadata": {
    "collapsed": false
   },
   "outputs": [],
   "source": [
    "train_op = tf.train.GradientDescentOptimizer(1e-3).minimize(model.loss)\n",
    "#train_op = tf.train.AdamOptimizer(1e-4).minimize(model.loss)"
   ]
  },
  {
   "cell_type": "code",
   "execution_count": null,
   "metadata": {
    "collapsed": false
   },
   "outputs": [],
   "source": [
    "## start training:\n",
    "delta = 10\n",
    "loss_old = 1e3\n",
    "steps = 0\n",
    "t0 = 0\n",
    "while loss_0 > 5e-1:\n",
    "    sess.run(train_op, feed_dict = {model.scores:scores, model.proj_: proj_mat })\n",
    "    loss_new = sess.run(model.loss, feed_dict = {model.scores:scores,\n",
    "                                    model.proj_: proj_mat })\n",
    "    delta = loss_0 - loss_1\n",
    "    loss_old = loss_new\n",
    "    steps +=1\n",
    "    if steps%5000 ==0:\n",
    "        t1 = time.time() - t0\n",
    "        print(steps, loss_new, t1)\n",
    "        t0 = time.time()"
   ]
  },
  {
   "cell_type": "code",
   "execution_count": 13,
   "metadata": {
    "collapsed": false
   },
   "outputs": [
    {
     "data": {
      "text/plain": [
       "0.5198372"
      ]
     },
     "execution_count": 13,
     "metadata": {},
     "output_type": "execute_result"
    }
   ],
   "source": [
    "## final loss\n",
    "loss_new"
   ]
  },
  {
   "cell_type": "code",
   "execution_count": 14,
   "metadata": {
    "collapsed": false
   },
   "outputs": [
    {
     "data": {
      "text/plain": [
       "1.1920929e-07"
      ]
     },
     "execution_count": 14,
     "metadata": {},
     "output_type": "execute_result"
    }
   ],
   "source": [
    "delta"
   ]
  },
  {
   "cell_type": "code",
   "execution_count": 15,
   "metadata": {
    "collapsed": false
   },
   "outputs": [],
   "source": [
    "ans_p = sess.run(model.p_, feed_dict = {model.scores:scores, model.proj_: proj_mat })\n",
    "ans_s = sess.run(model.s_, feed_dict = {model.scores:scores, model.proj_: proj_mat })"
   ]
  },
  {
   "cell_type": "code",
   "execution_count": 16,
   "metadata": {
    "collapsed": false
   },
   "outputs": [
    {
     "name": "stdout",
     "output_type": "stream",
     "text": [
      "1.67534\n",
      "11.2197\n",
      "0.998288734857\n",
      "9\n"
     ]
    }
   ],
   "source": [
    "print(np.max(ans_p))\n",
    "print(np.max(ans_s))\n",
    "print(np.max(p_mat))\n",
    "print(np.max(s_mat))"
   ]
  },
  {
   "cell_type": "markdown",
   "metadata": {},
   "source": [
    "### The matrix \"scores\" corresponds to the actual scores students get,  each row corresponds to one student"
   ]
  },
  {
   "cell_type": "code",
   "execution_count": 17,
   "metadata": {
    "collapsed": false
   },
   "outputs": [
    {
     "data": {
      "text/plain": [
       "array([[ 12.80680776,   8.43003059,   4.13264195, ...,  14.77383256,\n",
       "          8.50550194,   0.        ],\n",
       "       [ 13.39813329,   9.19511565,   7.3082714 , ...,   0.        ,\n",
       "         10.499488  ,   8.99193504],\n",
       "       [ 11.96497792,   7.99475783,   9.51668089, ...,   9.80643314,\n",
       "         12.78025442,   8.37974439],\n",
       "       ..., \n",
       "       [ 12.9880673 ,   7.32100781,  10.20719712, ...,  14.29542246,\n",
       "          0.        ,   8.64498603],\n",
       "       [ 13.11857865,   7.7657547 ,   9.24343606, ...,  15.86665384,\n",
       "         12.10683107,   8.52417916],\n",
       "       [  0.        ,  13.369907  ,  12.01829756, ...,  20.43683902,\n",
       "         17.42720044,  14.02801545]])"
      ]
     },
     "execution_count": 17,
     "metadata": {},
     "output_type": "execute_result"
    }
   ],
   "source": [
    "scores"
   ]
  },
  {
   "cell_type": "markdown",
   "metadata": {},
   "source": [
    "### The matrix \"predict\" corresponds to the scores predicted by the model"
   ]
  },
  {
   "cell_type": "code",
   "execution_count": 18,
   "metadata": {
    "collapsed": false
   },
   "outputs": [
    {
     "data": {
      "text/plain": [
       "array([[ 12.64943314,   7.38609791,   4.88772869, ...,  13.9958477 ,\n",
       "          9.47811222,   0.        ],\n",
       "       [ 13.48714733,   9.46942711,   6.95884275, ...,   0.        ,\n",
       "         10.24669075,   9.32217979],\n",
       "       [ 11.98147964,   8.16967869,   9.22065926, ...,   9.99115658,\n",
       "         12.56333351,   8.55237675],\n",
       "       ..., \n",
       "       [ 13.08638382,   7.53767014,  10.00169468, ...,  14.36231518,\n",
       "          0.        ,   8.8303442 ],\n",
       "       [ 13.29052734,   7.94151449,   8.9777174 , ...,  16.02168465,\n",
       "         12.02047634,   8.74792957],\n",
       "       [  0.        ,  13.06660366,  12.04007149, ...,  20.25844955,\n",
       "         17.75388718,  13.78044796]], dtype=float32)"
      ]
     },
     "execution_count": 18,
     "metadata": {},
     "output_type": "execute_result"
    }
   ],
   "source": [
    "predict = sess.run(model.predict, feed_dict = {model.scores:scores, model.proj_: proj_mat })"
   ]
  },
  {
   "cell_type": "markdown",
   "metadata": {
    "collapsed": true
   },
   "source": [
    "## The model seems to work, and this is not the best we can do yet~  "
   ]
  },
  {
   "cell_type": "code",
   "execution_count": null,
   "metadata": {
    "collapsed": true
   },
   "outputs": [],
   "source": []
  },
  {
   "cell_type": "code",
   "execution_count": null,
   "metadata": {
    "collapsed": true
   },
   "outputs": [],
   "source": []
  }
 ],
 "metadata": {
  "anaconda-cloud": {},
  "kernelspec": {
   "display_name": "Python 2",
   "language": "python",
   "name": "python2"
  },
  "language_info": {
   "codemirror_mode": {
    "name": "ipython",
    "version": 2
   },
   "file_extension": ".py",
   "mimetype": "text/x-python",
   "name": "python",
   "nbconvert_exporter": "python",
   "pygments_lexer": "ipython2",
   "version": "2.7.12"
  }
 },
 "nbformat": 4,
 "nbformat_minor": 1
}
